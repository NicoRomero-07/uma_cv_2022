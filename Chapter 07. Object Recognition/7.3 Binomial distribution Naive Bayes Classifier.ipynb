{
 "cells": [
  {
   "cell_type": "markdown",
   "metadata": {},
   "source": [
    "# 7.3 Naive Bayes Classifier based on the Binomial distribution \n",
    "\n",
    "In the previous notebook we built discriminant functions that carried out a Maximum Log-Likelihood Estimation (MLE). Said functions were defined as $d_k(x) = ln\\ p(\\mathbf{x}|C_k)$, where the vector of features $\\mathbf{x}$ followed a normal distribution. In this notebook we are going to explore the case in $\\mathbf{x}$ follows a **a binomial distribuion**, where the features in $\\mathbf{x}$ are either $0$ or $1$ (Bernoulli trial).\n",
    "\n",
    "Recall that we are assuming again the **naive** Bayes classifier model, so features are considered **independent**:\n",
    "\n",
    "$$P(x_i \\cap x_j) = P(x_i)p(x_j) \\; \\forall i,j$$\n",
    "\n",
    "In this notebook we will learn how a naive Bayes classifier can be trained (section 7.3.1) and tested (section 7.3.2) using binomial features."
   ]
  },
  {
   "cell_type": "markdown",
   "metadata": {},
   "source": [
    "## Problem contex - Digit recognition\n",
    "\n",
    "Digit recognition systems aim to recognize the digits appearing in different sources like emails, bank cheques, papers, images, etc. They have many real-world applications as diverse as online handwriting recognition on papers, computers, or tablets, the recognition of license plate numbers in vehicles, the processing of bank cheques' amounts, etc.\n",
    "\n",
    "For completing the plate detector and recognition system in which we worked on in previous chapters, we are going to learn how to construct a digit recognition system using a naive Bayes classifier based on the binomial distribution. This system could be generalized to recognize any possible character appearing in the place.\n",
    "\n",
    "<img src=\"./images/plateRecognition.png\" width=\"400\"/>\n",
    "\n",
    "For this problem we need a set of digit images that will be used as training dataset for our classifier. For this application we would need to classify both digits and letters, however, to simplify this, we are going to use only digit images. In this way, the problem is reduced to 10 possible classes. You can find the provided images in `./images/train_binary/imagen{0-9}_{1-500}.png`, having 500 images for each digit.\n",
    "\n",
    "*Note that the provided images contain handwritten digits instead of plate ones, but the training and working principles are the same.*"
   ]
  },
  {
   "cell_type": "code",
   "execution_count": 2,
   "metadata": {},
   "outputs": [],
   "source": [
    "import numpy as np\n",
    "import cv2\n",
    "import matplotlib.pyplot as plt\n",
    "import matplotlib\n",
    "matplotlib.rcParams['figure.figsize'] = (16.0, 8.0)\n",
    "\n",
    "images_path = './images/'"
   ]
  },
  {
   "cell_type": "markdown",
   "metadata": {},
   "source": [
    "### 7.3.1 Training a naive Bayes classifier (binomial distribution)\n",
    "\n",
    "We will follow the same procedure as in the previous notebook, but adapted to the binomial distribution. First, we need to remember how the discriminant function of a Bayesian classifier is created:$\\\\[10pt]$\n",
    "\n",
    "$$\n",
    "\\begin{eqnarray}\n",
    "&d_k(x) &= P(C_k|\\mathbf{x}) = \\frac{p(\\mathbf{x}|C_k)P(C_k)}{P(\\mathbf{x})}\n",
    "\\\\\n",
    "\\xrightarrow{P(\\mathbf{x})\\text{ is a constant value }\\forall k} \\hspace{0.2cm}&d_k(x) &= p(\\mathbf{x}|C_k)P(C_k)\\\\[7pt]\n",
    "\\xrightarrow{ln \\text{ doesn't alter maximum }} \\hspace{0.2cm} &d_k(x) &= lnp(\\mathbf{x}|C_k) + lnP(C_k)\\\\[7pt]\n",
    "\\xrightarrow{\\text{If } P(C_k) = P(C_j)\\; \\forall \\ j,k }\\hspace{0.2cm} &d_k(x) &= lnp(\\mathbf{x}|C_k)\n",
    "\\end{eqnarray}\n",
    "\\\\[8pt]$$\n",
    "\n",
    "In the context of our digit recognition problem, we are going to deal with images with $28x28$ pixels, where each pixel is a feature that can take the value $0$ (black pixel) or $1$ (white pixel).These images are rearranged as vectors with $28x28=784$ features:\n",
    "\n",
    "$$\\mathbf{x} = [x_1 \\; x_2 \\; \\ldots \\; x_f \\; \\ldots \\; x_{784}]$$\n",
    "\n",
    "This way, each image could be interpreted as a point in space with 784 dimensions. Fascinating!\n",
    "\n",
    "Thus, considering the binomial distribution, the probability that a pixel $x_f$ belongs to a class $C_i$ is modeled as:\n",
    "\n",
    "$$p(x_f|C_i) = (p_f^i)^{x_f} *  (1 - p_f^i)^{(1 - x_f)}$$\n",
    "\n",
    "Being:\n",
    "\n",
    "- $p_f^i$ the probability that $x_f = 1$ if $\\mathbf{x} \\in C_i$, and \n",
    "- $1-p_f^i$ the probability that $x_f = 0$ if $\\mathbf{x} \\in C_i$.\n",
    "\n",
    "Again, we are assuming independence among features (we are building a **naive Bayes classifier**), so the probability $p(\\mathbf{x}|C_i)$ can be expressed as the multiplication of each individual probability $p(x_f|C_i)$, that is:$\\\\[5pt]$\n",
    "\n",
    "$$p(\\mathbf{x}|C_i) = \\Pi_{f=1}^n p(x_f|C_i) = \\Pi_{f=1}^n (p_f^i)^{x_f}*(1 - p_f^i)^{(1 - x_f)}$$\n",
    "\n",
    "Applying logarithms:$\\\\[7pt]$\n",
    "\n",
    "$$ln\\ p(\\mathbf{x}|C_i) = \\Sigma_{f=1}^n [x_f \\cdot ln(p_f^i) + (1- x_f) \\cdot ln\\ (1-p_f^i)] =\n",
    "\\\\\n",
    "=\n",
    "\\Sigma_{f=1}^n x_f \\cdot ln\\ \\frac{p_f^i}{1-p_f^i} + \\Sigma_{f=1}^n ln\\ (1-p_f^i)$$\n",
    "\n",
    "Finally, for obtaining **the discriminant function** for a category $C_i$, we have to also consider the prior probability:\n",
    "\n",
    "$$d_i(x) = ln \\ p(\\mathbf{x}|C_i) + ln \\ P(C_i) = \\underbrace{ln \\ P(C_i) + \\Sigma_{f=1}^n ln\\ (1-p_f^i)}_{w_{n+1}^i} + \\Sigma_{f=1}^n x_f \\cdot \\underbrace{ln\\ \\frac{p_f^i}{1-p_f^i}}_{w_f^i}$$\n",
    "\n",
    "As we can see, **the function is lineal** (and ideal!).\n",
    "\n",
    "**Implementation detail:** it is recommended to avoid values of 0 or 1 for $p_f^i$ since numerical problems may appear. Instead, take values close to 0 or 1. We will see this in a later assignment. "
   ]
  },
  {
   "cell_type": "markdown",
   "metadata": {},
   "source": [
    "### **<span style=\"color:green\"><b><i>ASSIGNMENT 1a: Setting up the data</i></b></span>**\n",
    "\n",
    "The first step for training the classifier is preparing the data (this is often called the preprocessing step). In the context of our problem, this is done by vectorizing each image. \n",
    "\n",
    "**Our task** is to construct a matrix containing all the images' data, which can be found at: `./images/train_binary/imagen{0-9}_{1-500}.png`. This matrix will have 3 dimensions: $(n\\_pixels, n\\_images, n\\_classes)$. Thus, each column of the matrix (second dimension) would contain a vectorized version of its corresponding image, having `n_images` in total. The third dimension indexes the different classes, having this problem a total of 10 (digits from 0 to 9).\n",
    "\n",
    "The image below illustrates the vectorization process of an image:\n",
    "\n",
    "<img src=\"./images/vectorize.png\" width=\"700\"/>\n",
    "\n",
    "In this way, **you have to** read all the images (there are 500 for each digit) and obtain the mentioned matrix storing all the data. Notice that the provided images are grayscale, so you will have to **binarize** them first using OpenCV, thus they can be used to build a binomial distribution."
   ]
  },
  {
   "cell_type": "code",
   "execution_count": 5,
   "metadata": {},
   "outputs": [
    {
     "name": "stdout",
     "output_type": "stream",
     "text": [
      "[[[0. 0. 0. ... 0. 0. 0.]\n",
      "  [0. 0. 0. ... 0. 0. 0.]\n",
      "  [0. 0. 0. ... 0. 0. 0.]\n",
      "  ...\n",
      "  [0. 0. 0. ... 0. 0. 0.]\n",
      "  [0. 0. 0. ... 0. 0. 0.]\n",
      "  [0. 0. 0. ... 0. 0. 0.]]\n",
      "\n",
      " [[0. 0. 0. ... 0. 0. 0.]\n",
      "  [0. 0. 0. ... 0. 0. 0.]\n",
      "  [0. 0. 0. ... 0. 0. 0.]\n",
      "  ...\n",
      "  [0. 0. 0. ... 0. 0. 0.]\n",
      "  [0. 0. 0. ... 0. 0. 0.]\n",
      "  [0. 0. 0. ... 0. 0. 0.]]\n",
      "\n",
      " [[0. 0. 0. ... 0. 0. 0.]\n",
      "  [0. 0. 0. ... 0. 0. 0.]\n",
      "  [0. 0. 0. ... 0. 0. 0.]\n",
      "  ...\n",
      "  [0. 0. 0. ... 0. 0. 0.]\n",
      "  [0. 0. 0. ... 0. 0. 0.]\n",
      "  [0. 0. 0. ... 0. 0. 0.]]\n",
      "\n",
      " ...\n",
      "\n",
      " [[0. 0. 0. ... 0. 0. 0.]\n",
      "  [0. 0. 0. ... 0. 0. 0.]\n",
      "  [0. 0. 0. ... 0. 0. 0.]\n",
      "  ...\n",
      "  [0. 0. 0. ... 0. 0. 0.]\n",
      "  [0. 0. 0. ... 0. 0. 0.]\n",
      "  [0. 0. 0. ... 0. 0. 0.]]\n",
      "\n",
      " [[0. 0. 0. ... 0. 0. 0.]\n",
      "  [0. 0. 0. ... 0. 0. 0.]\n",
      "  [0. 0. 0. ... 0. 0. 0.]\n",
      "  ...\n",
      "  [0. 0. 0. ... 0. 0. 0.]\n",
      "  [0. 0. 0. ... 0. 0. 0.]\n",
      "  [0. 0. 0. ... 0. 0. 0.]]\n",
      "\n",
      " [[0. 0. 0. ... 0. 0. 0.]\n",
      "  [0. 0. 0. ... 0. 0. 0.]\n",
      "  [0. 0. 0. ... 0. 0. 0.]\n",
      "  ...\n",
      "  [0. 0. 0. ... 0. 0. 0.]\n",
      "  [0. 0. 0. ... 0. 0. 0.]\n",
      "  [0. 0. 0. ... 0. 0. 0.]]]\n"
     ]
    }
   ],
   "source": [
    "## Training\n",
    "\n",
    "# Initialize matrix\n",
    "r,c = 28,28\n",
    "dataset = np.zeros((r*c,500,10))\n",
    "# For each class\n",
    "for number in range(10):\n",
    "    # For each image in the class\n",
    "    for i in range(1,501):\n",
    "        # Read the image\n",
    "        path = images_path + \"train_binary/imagen\" + str(number) + \"_\" + str(i) + \".png\"\n",
    "        image = cv2.imread(path,0)\n",
    "        # Binarize it\n",
    "        _,binarized = cv2.threshold(image,100,1,cv2.THRESH_BINARY)\n",
    "        vector_binarized = binarized.reshape((-1,1))\n",
    "        # Reshape it\n",
    "        dataset[:,i-1,number] = vector_binarized[:,0]"
   ]
  },
  {
   "cell_type": "markdown",
   "metadata": {},
   "source": [
    "### **<span style=\"color:green\"><b><i>ASSIGNMENT 1b: Computing probabilities</i></b></span>**\n",
    "\n",
    "After the preprocessing step, we will compute the different $p_f^i$ modeling the probability that $x_f = 1$ if $\\mathbf{x} \\in C_i$. These probabilities will allow us to compute the weights in a later step. Recall how the decision functions are built:\n",
    "\n",
    "$$d_i(x) = ln \\ p(\\mathbf{x}/C_i) + ln \\ P(C_i) = \\underbrace{ln \\ P(C_i) + \\Sigma_{f=1}^n ln\\ (1-p_f^i)}_{w_{n+1}^i} + \\Sigma_{f=1}^n x_f \\cdot \\underbrace{ln\\ \\frac{p_f^i}{1-p_f^i}}_{w_f^i}$$\n",
    "\n",
    "Luckily, considering a binomial distribution, computing these probabilities is straightforward. We just have to count the number of times that each pixel (feature $x_f$) takes the value `1` in each class, and divide it by the number of images used ($N$):\n",
    "\n",
    "$$p_{f}^i = \\frac{1}{N}\\Sigma_{k=1}^{N}x_{f,k}^{i}$$$\\\\[3pt]$\n",
    "\n",
    "Regarding our problem:\n",
    "- $N=500$ as we have $500$ images for each class. \n",
    "- The range of the index of features $f$ is $[0-783]$ as images have $28x28=784$ pixels.\n",
    "\n",
    "The following image illustrates the process of computing these probabilities:\n",
    "\n",
    "<img src=\"./images/probabilities.png\" width=\"700\"/>$\\\\[2pt]$\n",
    "\n",
    "**What to do?** \n",
    "1. Construct a 2D matrix **containing all the probabilities** ($matrix[f,i] = p_f^i$). \n",
    "2. Then, we are going to visualize the **prototype images**, also called **heatmaps**. There is a heatmap for each digit. In these images, the value of a pixel represent its probability of being `1` (black on a white paper sheet). For doing that, we have to **unvectorize the probabilities** in the matrix (2D $\\rightarrow$ 3D) and **plot the heatmaps**. This is also a good way to check if we are doing well.\n",
    "\n",
    "You should obtain something similar to this:\n",
    "\n",
    "<img src=\"./images/heatmaps.png\" width=\"700\"/>\n",
    "\n",
    "*Tip: try to use [`np.sum()`](https://numpy.org/doc/stable/reference/generated/numpy.sum.html) for computing the probaiblities in order to avoid loops, which are usually slower (check the `axis` argument).* ***You can compute probabilities in just one code line!***"
   ]
  },
  {
   "cell_type": "code",
   "execution_count": 17,
   "metadata": {},
   "outputs": [
    {
     "name": "stdout",
     "output_type": "stream",
     "text": [
      "[[0. 0. 0. ... 0. 0. 0.]\n",
      " [0. 0. 0. ... 0. 0. 0.]\n",
      " [0. 0. 0. ... 0. 0. 0.]\n",
      " ...\n",
      " [0. 0. 0. ... 0. 0. 0.]\n",
      " [0. 0. 0. ... 0. 0. 0.]\n",
      " [0. 0. 0. ... 0. 0. 0.]]\n"
     ]
    },
    {
     "data": {
      "image/png": "[encoded data removed]",
      "text/plain": [
       "<Figure size 1152x576 with 10 Axes>"
      ]
     },
     "metadata": {
      "needs_background": "light"
     },
     "output_type": "display_data"
    }
   ],
   "source": [
    "# Compute probabilities\n",
    "probabilities = np.sum(dataset, axis=1)/np.shape(dataset)[1]\n",
    "\n",
    "# Reshape to obtain heatmaps\n",
    "heatmaps = probabilities.reshape(r,c,10)\n",
    "\n",
    "# Plot heatmaps\n",
    "for i in range(2):\n",
    "    for j in range(5):\n",
    "        plt.subplot(2,5, i*5+(j+1))\n",
    "        plt.title(\"Number \" + str(i*5+j) + \" probabilities\")\n",
    "        plt.imshow(heatmaps[:,:,i*5+j])"
   ]
  },
  {
   "cell_type": "markdown",
   "metadata": {},
   "source": [
    "### **<span style=\"color:green\"><b><i>ASSIGNMENT 1c: Computing weights</i></b></span>**\n",
    "\n",
    "Once we have retrieved the probabilities $p_f^i$, we are ready to obtain **the weights** that define the discriminant function for each class. This is the last training step! Recall that these weights are defined as:\n",
    "\n",
    "$$\n",
    "\\begin{eqnarray}\n",
    "w_f^i &=& ln\\ \\frac{p_f^i}{1-p_f^i}\\\\[5pt]\n",
    "w_{n+1}^i &=& ln\\ P(C_i) + \\Sigma_{f=1}^n ln(1- p_f^i)\n",
    "\\end{eqnarray}\n",
    "$$\n",
    "\n",
    "Being:\n",
    "- $i$: one of the 10 possible classes, and\n",
    "- $f$: a feature in the range $[0,\\dots,783]$.\n",
    "\n",
    "**What to do?** Construct a 2D matrix containing the weights of the classifier. Consider the following:\n",
    "\n",
    "- Since we can't neither divide by 0 nor compute the logarithm of 0, during the weights computation, **0 and 1 probabilities should be replaced by close numbers** (e.g. 0.0001 and 0.9999). This can be done using [`np.where()`](https://numpy.org/doc/1.18/reference/generated/numpy.where.html).  \n",
    "- As we don't have any prior information about the occurences of each class, the prior probability $P(C_i)$ should be $1/n\\_classes$ for each class $i$.\n",
    "\n",
    "*Hint: For applying the natural logarithm to all the elements of a matrix, you can use [`np.log()`](https://numpy.org/doc/1.18/reference/generated/numpy.log.html?highlight=log#numpy.log).*"
   ]
  },
  {
   "cell_type": "code",
   "execution_count": 18,
   "metadata": {},
   "outputs": [],
   "source": [
    "## Weight calculation\n",
    "\n",
    "# Replace 0 and 1 values\n",
    "probabilities = np.where(probabilities==0, 0.001, probabilities)\n",
    "probabilities = np.where(probabilities==1, 0.999, probabilities)\n",
    "\n",
    "# Initialize matrix\n",
    "weights = np.zeros((r*c+1,10))\n",
    "\n",
    "# Compute weights\n",
    "weights[:-1,:] = np.log(probabilities/(1-probabilities))\n",
    "weights[-1,:] = np.log(0.1) + np.sum(np.log(1-probabilities),axis=0)"
   ]
  },
  {
   "cell_type": "markdown",
   "metadata": {},
   "source": [
    "### 7.3.2 Testing the classifier\n",
    "\n",
    "In the last step we retrieved the weights $w_{n+1}^i$ and $w_f^i$, so now we have all the building blocks needed to design the discriminant function of each class $d_i(x) \\; (i=0,1,\\ldots,9)$. These decision functions permit us to evaluate a new vector $\\mathbf{x}$ corresponding to a new vectorized image and retrieve its most probable category:\n",
    "\n",
    "$$d_i(\\mathbf{x}) = w_{n+1}^i + \\Sigma_{f=0}^{783}w_f^i \\cdot x_f \\quad i = 0,\\ldots, 9$$\n",
    "\n",
    "In this way, each discriminant function, after evaluating the vector of features, will return a number. As we are estimating the **maximum log-likelihood**, the assigned class will be the one corresponding to the discriminant function returning the highest value."
   ]
  },
  {
   "cell_type": "markdown",
   "metadata": {},
   "source": [
    "### **<span style=\"color:green\"><b><i>ASSIGNMENT 2</i></b></span>**\n",
    "\n",
    "For this exercise, it is provided a `numPy` matrix called `digitos.npy`, which is located at `./test_binary/`. It is a 1D matrix with 50 elements containing the ground truth information of 50 images, `./test_binary/timage{1-50}`. That is, the matrix codifies the digit, from 0 to 9, that each image contains. \n",
    "\n",
    "**Your task** is to classify those 50 images and check if the output of your classifier matches with the actual class, as provided in `digitos.npy`. In this way, we can estimate how good is our classifier.\n",
    "\n",
    "*Note: If you trained your classifier with the provided images, you should expect 41/50 hits, or a 82% of accuracy.*"
   ]
  },
  {
   "cell_type": "code",
   "execution_count": 23,
   "metadata": {},
   "outputs": [
    {
     "name": "stdout",
     "output_type": "stream",
     "text": [
      "Accuracy=41/50 (82.0%)\n"
     ]
    }
   ],
   "source": [
    "## Testing\n",
    "\n",
    "# Load provided matrix\n",
    "results = np.load(images_path + \"test_binary/digitos.npy\")\n",
    "hits = 0\n",
    "\n",
    "# Classify each testing image\n",
    "for i in range(1,51):\n",
    "    f_pesos = np.zeros((10))\n",
    "    # Read the image\n",
    "    path = images_path + \"test_binary/timage\" + str(i) + \".png\"\n",
    "    image = cv2.imread(path,0)\n",
    "    # Binarize it\n",
    "    _,binarized = cv2.threshold(image,100,1,cv2.THRESH_BINARY)\n",
    "    # Vectorize it\n",
    "    vector_binarized = binarized.reshape((-1,1))\n",
    "    vector_binarized = np.append(vector_binarized,[1])\n",
    "    # Evaluate the discriminant functions\n",
    "    for j in range(10):\n",
    "        f_pesos[j] = np.sum(weights[:,j] * vector_binarized)\n",
    "    # Get the maximum\n",
    "    res = np.where(f_pesos == np.amax(f_pesos))\n",
    "    if res == results[i-1]:\n",
    "        hits = hits + 1\n",
    "        \n",
    "# Print the accuracy\n",
    "print(\"Accuracy=\" + str(hits) + \"/50 (\" + str(100.0*hits/50.0) + \"%)\" )"
   ]
  },
  {
   "cell_type": "markdown",
   "metadata": {},
   "source": [
    "### **<span style=\"color:green\"><b><i>EXTRA: ASSIGNMENT 3</i></b></span>**\n",
    "\n",
    "Do you dare to try your brand new classifier with your own images? Brilliant! For that:\n",
    "\n",
    "1. Write a digit in a paper and make a photo with your phone. The following image shows an example (you can try with different numbers, of course!).$\\\\[5pt]$\n",
    "<img src=\"./images/testcamera.jpeg\" width=\"300\"/>$\\\\[5pt]$\n",
    "2. Then, segment the region of interest (crop the digit, see the left image in the figure below). \n",
    "3. Resize the image to $28\\times28$ pixels (this is the input image size of our classifier). You can use [`cv2.resize()`](https://docs.opencv.org/4.2.0/da/d54/group__imgproc__transform.html#ga47a974309e9102f5f08231edc7e7529d)for that. \n",
    "4. Finally, binarize (see the right image in the figure below) and vectorize the image. \n",
    "<img src=\"./images/extra_example.png\" width=\"700\"/>\n",
    "5. Follow the steps done in *assignment 2* to classify the image and show the results!"
   ]
  },
  {
   "cell_type": "code",
   "execution_count": null,
   "metadata": {},
   "outputs": [
    {
     "name": "stdout",
     "output_type": "stream",
     "text": [
      "Image classified as [5]\n"
     ]
    },
    {
     "data": {
      "image/png": "[encoded data removed]",
      "text/plain": [
       "<Figure size 1152x576 with 2 Axes>"
      ]
     },
     "metadata": {
      "needs_background": "light"
     },
     "output_type": "display_data"
    }
   ],
   "source": [
    "## Testing with our own image\n",
    "\n",
    "# Read image and convert it to grayscale\n",
    "color_image = cv2.imread(images_path + 'testcamera.jpeg', -1)\n",
    "color_image = cv2.cvtColor(color_image, cv2.COLOR_BGR2RGB)\n",
    "\n",
    "# Crop ROI\n",
    "color_image = color_image[380:500,1390:1510,:]\n",
    "image = cv2.cvtColor(color_image, cv2.COLOR_RGB2GRAY)\n",
    "\n",
    "# Binarize it\n",
    "image = cv2.resize(image,(r,c))\n",
    "_,binarized = cv2.threshold(image,130,1,cv2.THRESH_BINARY_INV)\n",
    "\n",
    "# Reshape the image\n",
    "vector_binarized = binarized.reshape((-1,1))\n",
    "vector_binarized = np.append(vector_binarized,[1])\n",
    "\n",
    "# Evaluate the discriminant functions\n",
    "for j in range(10):\n",
    "    f_pesos[j] = np.sum(weights[:,j] * vector_binarized)\n",
    "    \n",
    "# Get the maximum\n",
    "res = np.where(f_pesos == np.amax(f_pesos))\n",
    "\n",
    "# Plot the results\n",
    "plt.subplot(121)\n",
    "plt.imshow(color_image)\n",
    "plt.title(\"Original image\")\n",
    "plt.subplot(122)\n",
    "plt.imshow(binarized,cmap=\"gray\")\n",
    "print(\"Image classified as \" + str(res[0]))"
   ]
  },
  {
   "cell_type": "markdown",
   "metadata": {},
   "source": [
    "## Conclusion\n",
    "\n",
    "Excellent! You have learned how to:\n",
    "\n",
    "- design and train a naïve Bayes classifier based on the binomial distribution for binary images,\n",
    "- test and obtain the accuracy of the classifier,\n",
    "- recognize digits in the context of plate characters (notice that the handwritten digits dataset used in the assignments could be replaced by any other containing plate characters!)."
   ]
  }
 ],
 "metadata": {
  "kernelspec": {
   "display_name": "Python 3",
   "language": "python",
   "name": "python3"
  },
  "language_info": {
   "codemirror_mode": {
    "name": "ipython",
    "version": 3
   },
   "file_extension": ".py",
   "mimetype": "text/x-python",
   "name": "python",
   "nbconvert_exporter": "python",
   "pygments_lexer": "ipython3",
   "version": "3.8.8"
  },
  "varInspector": {
   "cols": {
    "lenName": 16,
    "lenType": 16,
    "lenVar": 40
   },
   "kernels_config": {
    "python": {
     "delete_cmd_postfix": "",
     "delete_cmd_prefix": "del ",
     "library": "var_list.py",
     "varRefreshCmd": "print(var_dic_list())"
    },
    "r": {
     "delete_cmd_postfix": ") ",
     "delete_cmd_prefix": "rm(",
     "library": "var_list.r",
     "varRefreshCmd": "cat(var_dic_list()) "
    }
   },
   "position": {
    "height": "531.85px",
    "left": "1529px",
    "right": "20px",
    "top": "115px",
    "width": "319px"
   },
   "types_to_exclude": [
    "module",
    "function",
    "builtin_function_or_method",
    "instance",
    "_Feature"
   ],
   "window_display": true
  }
 },
 "nbformat": 4,
 "nbformat_minor": 4
}
